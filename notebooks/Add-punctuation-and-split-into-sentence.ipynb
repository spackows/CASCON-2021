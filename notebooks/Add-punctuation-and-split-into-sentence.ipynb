{
 "cells": [
  {
   "cell_type": "markdown",
   "metadata": {
    "collapsed": true
   },
   "source": [
    "# About\n",
    "\n",
    "This Python notebook demonstrates using the Python library [`punctuator`](https://pypi.org/project/punctuator/) to add punctuation and capitalization to the Speech to Text output of a meeting recording.\n",
    "\n",
    "A pretrained model, created by [Ottokar Tilk](https://ee.linkedin.com/in/ottokar-tilk), is used. See: [Paper: Bidirectional Recurrent Neural Network with Attention Mechanism for Punctuation Restoration](https://www.isca-speech.org/archive/pdfs/interspeech_2016/tilk16_interspeech.pdf)\n",
    "\n",
    "The notebook also demonstrates using the [Natural Language Toolkit](https://www.nltk.org/) to break the punctuated transcript into an array of sentences.\n",
    "\n",
    "This notebook is a sample to support a paper presentation at CASCONxEVOKE 2021.\n",
    "\n",
    "See:\n",
    "- [CASCONxEVOKE 2021](https://pheedloop.com/casconevoke2021/site/home)\n",
    "- [Presentation](https://pheedloop.com/casconevoke2021/site/sessions/?id=SESPZ87C5K5VZKT28)\n",
    "- [Samples GitHub repo](https://github.com/spackows/CASCON-2021_Processing_video)"
   ]
  },
  {
   "cell_type": "code",
   "execution_count": null,
   "metadata": {},
   "outputs": [],
   "source": []
  },
  {
   "cell_type": "markdown",
   "metadata": {},
   "source": [
    "# Step 1: Download Speech to Text output to working directory\n",
    "\n",
    "Watson Speech to Text output for a sample meeting recording is available here: [favorite-animals-short-meeting_STT-raw-results.json](https://raw.githubusercontent.com/spackows/CASCON-2021_Processing_video/main/sample-meeting/favorite-animals-short-meeting_STT-raw-results.json)\n",
    "\n",
    "In this step, download that file to the notebook working directory."
   ]
  },
  {
   "cell_type": "code",
   "execution_count": 1,
   "metadata": {},
   "outputs": [
    {
     "data": {
      "text/plain": [
       "('favorite-animals-short-meeting_STT-raw-results.json',\n",
       " <http.client.HTTPMessage at 0x7faff8608550>)"
      ]
     },
     "execution_count": 1,
     "metadata": {},
     "output_type": "execute_result"
    }
   ],
   "source": [
    "# Download the file\n",
    "import urllib.request\n",
    "stt_results_url = \"https://raw.githubusercontent.com/spackows/CASCON-2021_Processing_video/main/sample-meeting/favorite-animals-short-meeting_STT-raw-results.json\"\n",
    "stt_results_filename = \"favorite-animals-short-meeting_STT-raw-results.json\"\n",
    "urllib.request.urlretrieve( stt_results_url, stt_results_filename )"
   ]
  },
  {
   "cell_type": "code",
   "execution_count": 5,
   "metadata": {},
   "outputs": [
    {
     "name": "stdout",
     "output_type": "stream",
     "text": [
      "favorite-animals-short-meeting_STT-raw-results.json\r\n"
     ]
    }
   ],
   "source": [
    "# View the contents of the working directory\n",
    "!ls"
   ]
  },
  {
   "cell_type": "code",
   "execution_count": null,
   "metadata": {},
   "outputs": [],
   "source": []
  },
  {
   "cell_type": "code",
   "execution_count": null,
   "metadata": {},
   "outputs": [],
   "source": []
  },
  {
   "cell_type": "markdown",
   "metadata": {},
   "source": [
    "# Step 2: Pull all text into a long string"
   ]
  },
  {
   "cell_type": "code",
   "execution_count": 4,
   "metadata": {},
   "outputs": [
    {
     "name": "stdout",
     "output_type": "stream",
     "text": [
      "[\n",
      "  {\n",
      "    \"final\": true,\n",
      "    \"alternatives\": [\n",
      "      {\n",
      "        \"transcript\": \"thanks everybody for joining me for this short meeting \",\n",
      "        \"confidence\": 0.95\n",
      "      }\n",
      "    ]\n",
      "  },\n",
      "  {\n",
      "    \"final\": true,\n",
      "    \"alternatives\": [\n",
      "      {\n",
      "        \"transcript\": \"what I wanted to do today was to go around the room and asked people to share what is their favorite animal and why \",\n",
      "        \"confidence\": 0.9\n",
      "      }\n",
      "    ]\n",
      "  },\n",
      "  {\n",
      "    \"final\": true,\n",
      "    \"alternatives\": [\n",
      "      {\n",
      "        \"transcript\": \"okay hi my name is heather and my favorite animal is a dog and the reason that it's my favorite animal how did a lot of people scare animal \",\n",
      "        \"confidence\": 0.87\n",
      "      }\n",
      "    ]\n",
      "  }\n",
      "]\n"
     ]
    }
   ],
   "source": [
    "# Read the raw Watson Speech to Text JSON results from the file\n",
    "import json\n",
    "with open( stt_results_filename ) as json_file:\n",
    "    stt_results_json = json.load( json_file )\n",
    "print( json.dumps( stt_results_json[\"results\"][0:3], indent=2 ) )"
   ]
  },
  {
   "cell_type": "code",
   "execution_count": null,
   "metadata": {},
   "outputs": [],
   "source": [
    "# Print all results for interest\n",
    "print( json.dumps( stt_results_json, indent=2 ) )"
   ]
  },
  {
   "cell_type": "code",
   "execution_count": 19,
   "metadata": {},
   "outputs": [
    {
     "name": "stdout",
     "output_type": "stream",
     "text": [
      "thanks everybody for joining me for this short meeting what I wanted to do today was to go around the room and asked people to share what is their favorite animal and why okay hi my name is heather and my favorite animal is a dog and the reason that it's my favorite animal how did a lot of people scare animal because dogs are such loving companions who are so very loyal and I feel like they seem to know when you need them to come snuggle by you they're very perceptive of your feelings and they want to please you and I don't think there are well there are mean dogs well most dogs are very lovable and only just want to %HESITATION please humans and so I would say dogs are my favorite animal I can go next so %HESITATION my name Serra and %HESITATION every once in awhile actually reflecting a different animal and they like it connects with a different one but I recently I've been thinking a lot about elephants and I think offensively fast eating they were present in the African culture they are symbol of strength and power and %HESITATION I also think there are resembled his damn so yeah it's just think it's interesting because we don't get to see them that often at seven I'm usually the first thing I would think about when I'm asked about my favorite animal I would say like a pet animal but I I yeah that's fine animals in the wild are also very fascinating very interesting to explore and learn more about them similar to Serra and at the same time maybe my favorite animal would be a major routes because of all is that they look very very very unique and whenever I went to a zero or anything like that I always look forward to seeing that Europe so yeah I think the rap maybe a ten years ago if you ask me my favorite animal I wouldn't have sent the Hornets and they're pretty up there still but we happen to get a donkey a couple of years ago because a neighbor was getting a bit older and couldn't couldn't look after her anymore himself as easily so she just came over the fence to our property instead and you can still visit her but that's the first junkie I've ever met and I have to say she's amazing so now I would say my favorite animal is donkeys they're kind of like a horse and a dog in their personality and I have to say she is smarter than I am I fully acknowledge that donkeys are quite amazing \n"
     ]
    }
   ],
   "source": [
    "# Paste all the transcript pieces together into one, long string\n",
    "stt_results_str = \"\"\n",
    "for result in stt_results_json[\"results\"]:\n",
    "    stt_results_str += result[\"alternatives\"][0][\"transcript\"]\n",
    "print( stt_results_str )"
   ]
  },
  {
   "cell_type": "code",
   "execution_count": 23,
   "metadata": {},
   "outputs": [
    {
     "name": "stdout",
     "output_type": "stream",
     "text": [
      "thanks everybody for joining me for this short meeting what I wanted to do today was to go around the room and asked people to share what is their favorite animal and why okay hi my name is heather and my favorite animal is a dog and the reason that it's my favorite animal how did a lot of people scare animal because dogs are such loving companions who are so very loyal and I feel like they seem to know when you need them to come snuggle by you they're very perceptive of your feelings and they want to please you and I don't think there are well there are mean dogs well most dogs are very lovable and only just want to please humans and so I would say dogs are my favorite animal I can go next so my name Serra and every once in awhile actually reflecting a different animal and they like it connects with a different one but I recently I've been thinking a lot about elephants and I think offensively fast eating they were present in the African culture they are symbol of strength and power and I also think there are resembled his damn so yeah it's just think it's interesting because we don't get to see them that often at seven I'm usually the first thing I would think about when I'm asked about my favorite animal I would say like a pet animal but I I yeah that's fine animals in the wild are also very fascinating very interesting to explore and learn more about them similar to Serra and at the same time maybe my favorite animal would be a major routes because of all is that they look very very very unique and whenever I went to a zero or anything like that I always look forward to seeing that Europe so yeah I think the rap maybe a ten years ago if you ask me my favorite animal I wouldn't have sent the Hornets and they're pretty up there still but we happen to get a donkey a couple of years ago because a neighbor was getting a bit older and couldn't couldn't look after her anymore himself as easily so she just came over the fence to our property instead and you can still visit her but that's the first junkie I've ever met and I have to say she's amazing so now I would say my favorite animal is donkeys they're kind of like a horse and a dog in their personality and I have to say she is smarter than I am I fully acknowledge that donkeys are quite amazing \n"
     ]
    }
   ],
   "source": [
    "# Remove %HESITATION from the string\n",
    "# (Those %HESITATION points mark where someone said something like \"um\" or \"uh\".)\n",
    "import re\n",
    "stt_results_str = re.sub( r\"\\s*%HESITATION\\s*\", \" \", stt_results_str )\n",
    "print( stt_results_str )"
   ]
  },
  {
   "cell_type": "code",
   "execution_count": null,
   "metadata": {},
   "outputs": [],
   "source": []
  },
  {
   "cell_type": "code",
   "execution_count": null,
   "metadata": {},
   "outputs": [],
   "source": []
  },
  {
   "cell_type": "markdown",
   "metadata": {},
   "source": [
    "# Step 3: Prepare sample Punctuator model\n",
    "\n",
    "This step uses the Python library [`punctuator`](https://pypi.org/project/punctuator/) to add puntuation and capitalization to the Speech to Text results string.  \n",
    "\n",
    "In particular, this step uses a pretrained model created by [Ottokar Tilk](https://ee.linkedin.com/in/ottokar-tilk).\n",
    "\n",
    "See:\n",
    "- [Model: `english-europarl-v7`](https://github.com/ottokart/punctuator2#english-europarl-v7)\n",
    "- [Paper: Bidirectional Recurrent Neural Network with Attention Mechanism for Punctuation Restoration](https://www.isca-speech.org/archive/pdfs/interspeech_2016/tilk16_interspeech.pdf)"
   ]
  },
  {
   "cell_type": "code",
   "execution_count": null,
   "metadata": {},
   "outputs": [],
   "source": [
    "# Install the library for downloading a large file from Google Drive\n",
    "!pip install gdown"
   ]
  },
  {
   "cell_type": "markdown",
   "metadata": {},
   "source": [
    "### Get a `link_id` for the pretrained model:\n",
    "The pretrained model, created by Ottokar Tilk, is available to download from Google Drive:\n",
    "1. In Ottokar Tilk's [puntuator2 GitHub repo](https://github.com/ottokart/punctuator2), navigate to the \"How well does it work\" section of the README: [Link](https://github.com/ottokart/punctuator2#how-well-does-it-work)\n",
    "2. Follow the link where it says \"Pretrained models can be downloaded _here_\"\n",
    "3. Right-click on the file named \"Demo-Europarl-EN.pcl\" and then select **Make a copy**\n",
    "4. In your Google drive, right-click on the file named \"Copy of Demo-Europarl-EN.pcl\" and then click **Get link**\n",
    "5. The link will be of the form `https://drive.google.com/file/d/<link_id>/view?usp=sharing`\n",
    "6. Paste that &lt;link_id> into the cell bellow\n",
    "\n",
    "The reason you should create your own copy and link_id is: If too many people use the same link to download the file, the downlownd link is locked by Google."
   ]
  },
  {
   "cell_type": "code",
   "execution_count": 48,
   "metadata": {},
   "outputs": [],
   "source": [
    "link_id = \"\""
   ]
  },
  {
   "cell_type": "code",
   "execution_count": null,
   "metadata": {},
   "outputs": [],
   "source": [
    "# Download the pretrained model\n",
    "import gdown\n",
    "url = \"https://drive.google.com/uc?id=\" + link_id\n",
    "output = \"Demo-Europarl-EN.pcl\"\n",
    "gdown.download( url, output, quiet=False )"
   ]
  },
  {
   "cell_type": "code",
   "execution_count": 51,
   "metadata": {},
   "outputs": [
    {
     "name": "stdout",
     "output_type": "stream",
     "text": [
      "Demo-Europarl-EN.pcl  favorite-animals-short-meeting_STT-raw-results.json\r\n"
     ]
    }
   ],
   "source": [
    "# View the contents of the working directory\n",
    "!ls"
   ]
  },
  {
   "cell_type": "code",
   "execution_count": null,
   "metadata": {},
   "outputs": [],
   "source": [
    "# Install the punctuator library\n",
    "!pip install punctuator"
   ]
  },
  {
   "cell_type": "code",
   "execution_count": 54,
   "metadata": {},
   "outputs": [],
   "source": [
    "# Load the pretrained model\n",
    "from punctuator import Punctuator\n",
    "p = Punctuator( \"Demo-Europarl-EN.pcl\" )"
   ]
  },
  {
   "cell_type": "code",
   "execution_count": null,
   "metadata": {},
   "outputs": [],
   "source": []
  },
  {
   "cell_type": "code",
   "execution_count": null,
   "metadata": {},
   "outputs": [],
   "source": []
  },
  {
   "cell_type": "markdown",
   "metadata": {},
   "source": [
    "# Step 4: Add punctuation and capitalization"
   ]
  },
  {
   "cell_type": "code",
   "execution_count": 55,
   "metadata": {},
   "outputs": [
    {
     "name": "stdout",
     "output_type": "stream",
     "text": [
      "Thanks everybody for joining me for this short meeting. What I wanted to do today was to go around the room and asked people to share what is their favorite animal and why? Okay hi my name is heather and my favorite animal is a dog and the reason that it's my favorite animal. How did a lot of people scare animal, because dogs are such loving companions who are so very loyal and I feel like they seem to know when you need them to come snuggle by you, they're very perceptive of your feelings, and they want to please you and I: don't think there are well, there are mean dogs. Well, most dogs are very lovable and only just want to please humans and so I would say. Dogs are my favorite. Animal I can go next, so my name Serra and every once in awhile, actually reflecting a different animal and they like it, connects with a different one. But I recently I've been thinking a lot about elephants and I think offensively fast eating. They were present in the African culture. They are symbol of strength and power and I also think there are resembled his damn so yeah. It's just think it's interesting, because we don't get to see them that often at seven I'm, usually the first thing I would think about. When I'm asked about my favorite animal I would say like a pet animal but I I yeah, that's fine animals in the wild are also very fascinating, very interesting to explore and learn more about them similar to Serra and at the same time maybe my favorite animal would be a major routes because of all is that they look very, very, very unique and whenever I went to a zero or anything like that, I always look forward to seeing that Europe, so yeah I think the rap. Maybe a ten years ago, if you ask me my favorite animal I wouldn't have sent the Hornets and they're pretty up there still, but we happen to get a donkey a couple of years ago, because a neighbor was getting a bit older and couldn't couldn't look after her anymore himself as easily. So she just came over the fence to our property instead and you can still visit her, but that's the first junkie I've ever met and I have to say she's amazing. So now I would say my favorite animal is donkeys. They're kind of like a horse and a dog in their personality and I have to say she is smarter than I am I fully acknowledge that donkeys are quite amazing.\n"
     ]
    }
   ],
   "source": [
    "# Add punctuation and capitalization using the pretrained model\n",
    "stt_results_punc = p.punctuate( stt_results_str )\n",
    "print( stt_results_punc )"
   ]
  },
  {
   "cell_type": "code",
   "execution_count": null,
   "metadata": {},
   "outputs": [],
   "source": []
  },
  {
   "cell_type": "code",
   "execution_count": null,
   "metadata": {},
   "outputs": [],
   "source": []
  },
  {
   "cell_type": "markdown",
   "metadata": {},
   "source": [
    "# Step 5: Split string into sentences\n",
    "\n",
    "This step uses the [Natural Language Toolkit](https://www.nltk.org/) to break the punctuated text into sentences.  \n",
    "\n",
    "Specifically, the [NLTK sentence tokenizer](https://www.nltk.org/_modules/nltk/tokenize/punkt.html) is used."
   ]
  },
  {
   "cell_type": "code",
   "execution_count": 56,
   "metadata": {},
   "outputs": [
    {
     "name": "stderr",
     "output_type": "stream",
     "text": [
      "[nltk_data] Downloading package punkt to /home/wsuser/nltk_data...\n",
      "[nltk_data]   Unzipping tokenizers/punkt.zip.\n"
     ]
    },
    {
     "data": {
      "text/plain": [
       "True"
      ]
     },
     "execution_count": 56,
     "metadata": {},
     "output_type": "execute_result"
    }
   ],
   "source": [
    "# Download the sentence tokenizer library\n",
    "import nltk\n",
    "nltk.download( \"punkt\" )"
   ]
  },
  {
   "cell_type": "code",
   "execution_count": 57,
   "metadata": {},
   "outputs": [
    {
     "data": {
      "text/plain": [
       "['Thanks everybody for joining me for this short meeting.',\n",
       " 'What I wanted to do today was to go around the room and asked people to share what is their favorite animal and why?',\n",
       " \"Okay hi my name is heather and my favorite animal is a dog and the reason that it's my favorite animal.\",\n",
       " \"How did a lot of people scare animal, because dogs are such loving companions who are so very loyal and I feel like they seem to know when you need them to come snuggle by you, they're very perceptive of your feelings, and they want to please you and I: don't think there are well, there are mean dogs.\",\n",
       " 'Well, most dogs are very lovable and only just want to please humans and so I would say.',\n",
       " 'Dogs are my favorite.',\n",
       " 'Animal I can go next, so my name Serra and every once in awhile, actually reflecting a different animal and they like it, connects with a different one.',\n",
       " \"But I recently I've been thinking a lot about elephants and I think offensively fast eating.\",\n",
       " 'They were present in the African culture.',\n",
       " 'They are symbol of strength and power and I also think there are resembled his damn so yeah.',\n",
       " \"It's just think it's interesting, because we don't get to see them that often at seven I'm, usually the first thing I would think about.\",\n",
       " \"When I'm asked about my favorite animal I would say like a pet animal but I I yeah, that's fine animals in the wild are also very fascinating, very interesting to explore and learn more about them similar to Serra and at the same time maybe my favorite animal would be a major routes because of all is that they look very, very, very unique and whenever I went to a zero or anything like that, I always look forward to seeing that Europe, so yeah I think the rap.\",\n",
       " \"Maybe a ten years ago, if you ask me my favorite animal I wouldn't have sent the Hornets and they're pretty up there still, but we happen to get a donkey a couple of years ago, because a neighbor was getting a bit older and couldn't couldn't look after her anymore himself as easily.\",\n",
       " \"So she just came over the fence to our property instead and you can still visit her, but that's the first junkie I've ever met and I have to say she's amazing.\",\n",
       " 'So now I would say my favorite animal is donkeys.',\n",
       " \"They're kind of like a horse and a dog in their personality and I have to say she is smarter than I am I fully acknowledge that donkeys are quite amazing.\"]"
      ]
     },
     "execution_count": 57,
     "metadata": {},
     "output_type": "execute_result"
    }
   ],
   "source": [
    "# Split the text into an array of sentences\n",
    "from nltk import tokenize\n",
    "sentences_arr = tokenize.sent_tokenize( stt_results_punc )\n",
    "sentences_arr"
   ]
  },
  {
   "cell_type": "code",
   "execution_count": null,
   "metadata": {},
   "outputs": [],
   "source": []
  },
  {
   "cell_type": "code",
   "execution_count": null,
   "metadata": {},
   "outputs": [],
   "source": []
  }
 ],
 "metadata": {
  "kernelspec": {
   "display_name": "Python 3.8",
   "language": "python",
   "name": "python3"
  },
  "language_info": {
   "codemirror_mode": {
    "name": "ipython",
    "version": 3
   },
   "file_extension": ".py",
   "mimetype": "text/x-python",
   "name": "python",
   "nbconvert_exporter": "python",
   "pygments_lexer": "ipython3",
   "version": "3.8.12"
  }
 },
 "nbformat": 4,
 "nbformat_minor": 1
}
