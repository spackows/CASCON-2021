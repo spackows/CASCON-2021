{
 "cells": [
  {
   "cell_type": "code",
   "execution_count": null,
   "metadata": {
    "collapsed": true
   },
   "outputs": [],
   "source": []
  },
  {
   "cell_type": "markdown",
   "metadata": {},
   "source": [
    "# Step 1: Read Watson Speech to Text timstamps\n",
    "\n",
    "Watson Speech to Text output can return a timestamp for every word.  A words-timestamps file for a sample meeting recording is available here: [favorite-animals-short-meeting_words.json](https://raw.githubusercontent.com/spackows/CASCON-2021_Processing_video/main/sample-meeting/favorite-animals-short-meeting_words.json)\n",
    "\n",
    "In this step, download that words-timestamps file to the notebook working directory."
   ]
  },
  {
   "cell_type": "code",
   "execution_count": 2,
   "metadata": {},
   "outputs": [
    {
     "data": {
      "text/plain": [
       "('favorite-animals-short-meeting_words.json',\n",
       " <http.client.HTTPMessage at 0x7f1c102f5250>)"
      ]
     },
     "execution_count": 2,
     "metadata": {},
     "output_type": "execute_result"
    }
   ],
   "source": [
    "# Download the file\n",
    "import urllib.request\n",
    "words_url = \"https://raw.githubusercontent.com/spackows/CASCON-2021_Processing_video/main/sample-meeting/favorite-animals-short-meeting_words.json\"\n",
    "words_filename = \"favorite-animals-short-meeting_words.json\"\n",
    "urllib.request.urlretrieve( words_url, words_filename )"
   ]
  },
  {
   "cell_type": "code",
   "execution_count": 6,
   "metadata": {},
   "outputs": [
    {
     "name": "stdout",
     "output_type": "stream",
     "text": [
      "favorite-animals-short-meeting_words.json\r\n"
     ]
    }
   ],
   "source": [
    "# View the contents of the working directory\n",
    "!ls"
   ]
  },
  {
   "cell_type": "code",
   "execution_count": null,
   "metadata": {},
   "outputs": [],
   "source": []
  },
  {
   "cell_type": "code",
   "execution_count": null,
   "metadata": {},
   "outputs": [],
   "source": []
  },
  {
   "cell_type": "markdown",
   "metadata": {},
   "source": [
    "# Step 2: Read sentences\n",
    "\n",
    "A file containing an array of sentences for the sample meeting recording is available here: [favorite-animals-short-meeting_sentences_arr.json](https://raw.githubusercontent.com/spackows/CASCON-2021_Processing_video/main/sample-meeting/favorite-animals-short-meeting_sentences_arr.json)\n",
    "\n",
    "In this step, download that sentences arry file to the notebook working directory."
   ]
  },
  {
   "cell_type": "code",
   "execution_count": 7,
   "metadata": {},
   "outputs": [
    {
     "data": {
      "text/plain": [
       "('favorite-animals-short-meeting_sentences_arr.json',\n",
       " <http.client.HTTPMessage at 0x7f1c102f5610>)"
      ]
     },
     "execution_count": 7,
     "metadata": {},
     "output_type": "execute_result"
    }
   ],
   "source": [
    "# Download the file\n",
    "import urllib.request\n",
    "sentences_url = \"https://raw.githubusercontent.com/spackows/CASCON-2021_Processing_video/main/sample-meeting/favorite-animals-short-meeting_sentences_arr.json\"\n",
    "sentences_filename = \"favorite-animals-short-meeting_sentences_arr.json\"\n",
    "urllib.request.urlretrieve( sentences_url, sentences_filename )"
   ]
  },
  {
   "cell_type": "code",
   "execution_count": 8,
   "metadata": {},
   "outputs": [
    {
     "name": "stdout",
     "output_type": "stream",
     "text": [
      "favorite-animals-short-meeting_sentences_arr.json\r\n",
      "favorite-animals-short-meeting_words.json\r\n"
     ]
    }
   ],
   "source": [
    "# View the contents of the working directory\n",
    "!ls"
   ]
  },
  {
   "cell_type": "code",
   "execution_count": null,
   "metadata": {},
   "outputs": [],
   "source": []
  },
  {
   "cell_type": "code",
   "execution_count": null,
   "metadata": {},
   "outputs": [],
   "source": []
  },
  {
   "cell_type": "markdown",
   "metadata": {},
   "source": [
    "# Step 3: Get sentence timestamps\n",
    "\n",
    "This step uses the timestamps in the words file to get the timestamp for the first work in each sentence."
   ]
  },
  {
   "cell_type": "code",
   "execution_count": 66,
   "metadata": {},
   "outputs": [
    {
     "name": "stdout",
     "output_type": "stream",
     "text": [
      "[\n",
      "  [\n",
      "    {\n",
      "      \"word\": \"thanks\",\n",
      "      \"seconds\": 0\n",
      "    },\n",
      "    {\n",
      "      \"word\": \"everybody\",\n",
      "      \"seconds\": 1\n",
      "    },\n",
      "    {\n",
      "      \"word\": \"for\",\n",
      "      \"seconds\": 1\n",
      "    },\n",
      "    {\n",
      "      \"word\": \"joining\",\n",
      "      \"seconds\": 1\n",
      "    },\n",
      "    {\n",
      "      \"word\": \"me\",\n",
      "      \"seconds\": 2\n",
      "    },\n",
      "    {\n",
      "      \"word\": \"for\",\n",
      "      \"seconds\": 2\n",
      "    },\n",
      "    {\n",
      "      \"word\": \"this\",\n",
      "      \"seconds\": 2\n",
      "    },\n",
      "    {\n",
      "      \"word\": \"short\",\n",
      "      \"seconds\": 3\n",
      "    },\n",
      "    {\n",
      "      \"word\": \"meeting\",\n",
      "      \"seconds\": 3\n",
      "    }\n",
      "  ],\n",
      "  [\n",
      "    {\n",
      "      \"word\": \"what\",\n",
      "      \"seconds\": 4\n",
      "    },\n",
      "    {\n",
      "      \"word\": \"I\",\n",
      "      \"seconds\": 5\n",
      "    },\n",
      "    {\n",
      "      \"word\": \"wanted\",\n",
      "      \"seconds\": 5\n",
      "    },\n",
      "    {\n",
      "      \"word\": \"to\",\n",
      "    \n",
      "...\n"
     ]
    }
   ],
   "source": [
    "# Read the words timestamps from the file\n",
    "import json\n",
    "\n",
    "with open( words_filename ) as json_file:\n",
    "    words_json = json.load( json_file )\n",
    "    \n",
    "print( json.dumps( words_json, indent=2 )[0:700], \"\\n...\" )"
   ]
  },
  {
   "cell_type": "code",
   "execution_count": 22,
   "metadata": {},
   "outputs": [
    {
     "name": "stdout",
     "output_type": "stream",
     "text": [
      "[\n",
      "  \"Thanks everybody for joining me for this short meeting.\",\n",
      "  \"What I wanted to do today was to go around the room and asked people to share what is their favorite animal and why?\",\n",
      "  \"Okay hi my name is heather and my favorite animal is a dog and the reason that it's my favorite animal.\",\n",
      "  \"How did a lot of people scare animal, because dogs are such loving companions who are so very loyal and I feel like they seem to know when you need them to come snuggle by you, they're very perceptive of your feelings, and they want to please you and I: don't think there are well, there are mean dogs.\",\n",
      "  \"Well, most dogs are very lovable and only just want to please humans and so I would say.\",\n",
      "  \"Dogs are my favorite.\"\n",
      "] \n",
      "...\n"
     ]
    }
   ],
   "source": [
    "# Read the sentences from the file\n",
    "import json\n",
    "\n",
    "with open( sentences_filename ) as json_file:\n",
    "    sentences_arr = json.load( json_file )\n",
    "    \n",
    "print( json.dumps( sentences_arr[0:6], indent=2 ), \"\\n...\" )"
   ]
  },
  {
   "cell_type": "code",
   "execution_count": 73,
   "metadata": {},
   "outputs": [],
   "source": [
    "# Define some helper functions\n",
    "\n",
    "import math\n",
    "import re\n",
    "\n",
    "# Watson Speech to Text returns an array of arrays, \n",
    "# so flatten that to one array\n",
    "def flattenArr( chunks_arr ):\n",
    "    flat_arr = []\n",
    "    for words_arr in chunks_arr:\n",
    "        for word_json in words_arr:\n",
    "            word_json_arr = re.split( \"\\s+\", word_json[\"word\"] )\n",
    "            for word in word_json_arr:\n",
    "                flat_arr.append( { \"word\" : word, \"seconds\" : word_json[\"seconds\"] } )\n",
    "    return flat_arr\n",
    "\n",
    "# Pretty-print the timestamp\n",
    "def timestampStr( seconds ):\n",
    "    num_hours = math.floor( seconds / 3600 )\n",
    "    seconds_left = seconds - ( num_hours * 3600 )\n",
    "    num_mins = math.floor( seconds_left / 60 )\n",
    "    seconds_left = seconds_left - ( num_mins * 60 )\n",
    "    hours_str = str( num_hours )\n",
    "    mins_str = str( num_mins )\n",
    "    sec_str = str( seconds_left )\n",
    "    if num_hours < 10:\n",
    "        hours_str = \"0\" + hours_str\n",
    "    if num_mins < 10:\n",
    "        mins_str = \"0\" + mins_str\n",
    "    if seconds_left < 10:\n",
    "        sec_str = \"0\" + sec_str\n",
    "    return hours_str + \":\" + mins_str + \":\" + sec_str\n",
    "\n",
    "# Very rarely, words in the words list are multiple-word terms\n",
    "def handleMultiWord( words_json_flat, words_json_index, sentence_words, sentence_word_index ):\n",
    "    words_arr = re.split( \"\\s+\", words_json_flat[words_json_index][\"word\"] )\n",
    "    for word in words_arr:\n",
    "        sentence_word = sentence_words[sentence_word_index]\n",
    "        sentence_word_index += 1\n",
    "    return sentence_word_index;\n",
    "\n",
    "# Given a sentence, walk along the words in that sentence \n",
    "# and walk along the corresponding words in the words-timestamps list\n",
    "# to find the first word of the *next* sentence\n",
    "def findNextWordIndex( words_json_index_in, sentence, words_json_flat ):\n",
    "    words_json_index_next = words_json_index_in\n",
    "    sentence_words = re.split( \"\\s+\", sentence )\n",
    "    sentence_word_index = 0\n",
    "    while ( sentence_word_index < len( sentence_words ) ):\n",
    "        sentence_word_index = handleMultiWord( words_json_flat, words_json_index_next, sentence_words, sentence_word_index )\n",
    "        words_json_index_next += 1\n",
    "    return words_json_index_next\n",
    "    \n",
    "# Step through the sentences in the sentence list, \n",
    "# finding the timestamp of the first word in that sentence\n",
    "def sentenceTimestamps( words_json, sentences_arr ):\n",
    "    words_json_flat = flattenArr( words_json )\n",
    "    words_json_index = 0\n",
    "    transcript_text = \"\"\n",
    "    for sentence in sentences_arr:\n",
    "        seconds = words_json_flat[words_json_index][\"seconds\"]\n",
    "        transcript_text += timestampStr( seconds ) + \"\\n\"\n",
    "        transcript_text += sentence + \"\\n\\n\"\n",
    "        words_json_index = findNextWordIndex( words_json_index, sentence, words_json_flat )\n",
    "    return transcript_text\n"
   ]
  },
  {
   "cell_type": "code",
   "execution_count": 74,
   "metadata": {},
   "outputs": [
    {
     "name": "stdout",
     "output_type": "stream",
     "text": [
      "00:00:00\n",
      "Thanks everybody for joining me for this short meeting.\n",
      "\n",
      "00:00:04\n",
      "What I wanted to do today was to go around the room and asked people to share what is their favorite animal and why?\n",
      "\n",
      "00:00:17\n",
      "Okay hi my name is heather and my favorite animal is a dog and the reason that it's my favorite animal.\n",
      "\n",
      "00:00:24\n",
      "How did a lot of people scare animal, because dogs are such loving companions who are so very loyal and I feel like they seem to know when you need them to come snuggle by you, they're very perceptive of your feelings, and they want to please you and I: don't think there are well, there are mean dogs.\n",
      "\n",
      "00:00:49\n",
      "Well, most dogs are very lovable and only just want to please humans and so I would say.\n",
      "\n",
      "00:00:55\n",
      "Dogs are my favorite.\n",
      " \n",
      "...\n"
     ]
    }
   ],
   "source": [
    "# Get the timestamps of the start of each sentence\n",
    "transcripts_txt = sentenceTimestamps( words_json, sentences_arr )\n",
    "print( transcripts_txt[0:750], \"\\n...\" )"
   ]
  },
  {
   "cell_type": "code",
   "execution_count": null,
   "metadata": {},
   "outputs": [],
   "source": []
  },
  {
   "cell_type": "code",
   "execution_count": null,
   "metadata": {},
   "outputs": [],
   "source": []
  }
 ],
 "metadata": {
  "kernelspec": {
   "display_name": "Python 3.8",
   "language": "python",
   "name": "python3"
  },
  "language_info": {
   "codemirror_mode": {
    "name": "ipython",
    "version": 3
   },
   "file_extension": ".py",
   "mimetype": "text/x-python",
   "name": "python",
   "nbconvert_exporter": "python",
   "pygments_lexer": "ipython3",
   "version": "3.8.12"
  }
 },
 "nbformat": 4,
 "nbformat_minor": 1
}
