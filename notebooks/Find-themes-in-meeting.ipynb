{
 "cells": [
  {
   "cell_type": "markdown",
   "metadata": {
    "collapsed": true
   },
   "source": [
    "# About\n",
    "\n",
    "This Python notebook demonstrates extracting themes from each sentence in the favorite animals sample meeting using several methods:\n",
    "- Themes based on keywords or nouns extracted using the Watson Natural Language Understanding default model\n",
    "- Themes based on entities extracted using a custom language model, trained to recognize \"Animal\" entities and deployed in Watson Natural Language Understanding\n",
    "\n",
    "This notebook is a sample to support a paper presentation at CASCONxEVOKE 2021.\n",
    "\n",
    "See:\n",
    "- [CASCONxEVOKE 2021](https://pheedloop.com/casconevoke2021/site/home)\n",
    "- [Presentation](https://pheedloop.com/casconevoke2021/site/sessions/?id=SESPZ87C5K5VZKT28)\n",
    "- [Samples GitHub repo](https://github.com/spackows/CASCON-2021_Processing_video)"
   ]
  },
  {
   "cell_type": "code",
   "execution_count": null,
   "metadata": {},
   "outputs": [],
   "source": []
  },
  {
   "cell_type": "markdown",
   "metadata": {},
   "source": [
    "# Step 1: Download sentences of meeting transcript to working directory\n",
    "\n",
    "A file containing an array of corrected sentences for a sample meeting recording is available here: [favorite-animals-short-meeting_sentences_arr_corrected.json](https://raw.githubusercontent.com/spackows/CASCON-2021_Processing_video/main/sample-meeting/favorite-animals-short-meeting_sentences_arr_corrected.json)\n",
    "\n",
    "In this step, download that sentences array file to the notebook working directory."
   ]
  },
  {
   "cell_type": "code",
   "execution_count": 1,
   "metadata": {},
   "outputs": [
    {
     "data": {
      "text/plain": [
       "('favorite-animals-short-meeting_sentences_arr_corrected.json',\n",
       " <http.client.HTTPMessage at 0x7faeac27f6a0>)"
      ]
     },
     "execution_count": 1,
     "metadata": {},
     "output_type": "execute_result"
    }
   ],
   "source": [
    "# Download the file\n",
    "import urllib.request\n",
    "sentences_url = \"https://raw.githubusercontent.com/spackows/CASCON-2021_Processing_video/main/sample-meeting/favorite-animals-short-meeting_sentences_arr_corrected.json\"\n",
    "sentences_filename = \"favorite-animals-short-meeting_sentences_arr_corrected.json\"\n",
    "urllib.request.urlretrieve( sentences_url, sentences_filename )"
   ]
  },
  {
   "cell_type": "code",
   "execution_count": 8,
   "metadata": {},
   "outputs": [
    {
     "name": "stdout",
     "output_type": "stream",
     "text": [
      "favorite-animals-short-meeting_sentences_arr_corrected.json\r\n"
     ]
    }
   ],
   "source": [
    "# View the contents of the working directory\n",
    "!ls"
   ]
  },
  {
   "cell_type": "code",
   "execution_count": 24,
   "metadata": {},
   "outputs": [
    {
     "name": "stdout",
     "output_type": "stream",
     "text": [
      "[\n",
      "  \"Thanks, everybody, for joining me for this short meeting.\",\n",
      "  \"What I wanted to do, today, was to go around the room and asked people to share what is their favorite animal and why.\",\n",
      "  \"Okay. My name is Heather and my favorite animal is a dog.\",\n",
      "  \"And the reason that it's my favorite animal, probably a lot of people's favorite animal, because dogs are such loving companions who are so very loyal.\",\n",
      "  \"And I feel like they seem to know when you need them to come snuggle by you.\",\n",
      "  \"They're very perceptive of your feelings and they want to please you.\"\n",
      "] \n",
      "...\n"
     ]
    }
   ],
   "source": [
    "# Read the sentences from the file\n",
    "import json\n",
    "\n",
    "with open( sentences_filename ) as json_file:\n",
    "    sentences_arr = json.load( json_file )\n",
    "    \n",
    "print( json.dumps( sentences_arr[0:6], indent=2 ), \"\\n...\" )"
   ]
  },
  {
   "cell_type": "code",
   "execution_count": null,
   "metadata": {},
   "outputs": [],
   "source": []
  },
  {
   "cell_type": "code",
   "execution_count": null,
   "metadata": {},
   "outputs": [],
   "source": []
  },
  {
   "cell_type": "markdown",
   "metadata": {},
   "source": [
    "# Step 2: Get Credentials for Watson Natural Language Understanding\n",
    "\n",
    "1. Create a free (Lite plan) instance of the Watson Natural Language Understanding service in the IBM Cloud catalog: [Watson Natural Language Understanding](https://cloud.ibm.com/catalog/services/natural-language-understanding)\n",
    "2. On the **Service credentials** tab of your Watson Natural Language Understanding service instance, generate new credentials and then copy the **apikey** and the **url**[1] into the code cell below\n",
    "\n",
    "[1] Note, the url should be of the form: `https://api.<region>.natural-language-understanding.watson.cloud.ibm.com/instances/<unique-instance-ID>`"
   ]
  },
  {
   "cell_type": "code",
   "execution_count": 10,
   "metadata": {},
   "outputs": [],
   "source": [
    "nlu_apikey = \"\"\n",
    "nlu_url = \"\""
   ]
  },
  {
   "cell_type": "code",
   "execution_count": null,
   "metadata": {},
   "outputs": [],
   "source": []
  },
  {
   "cell_type": "code",
   "execution_count": null,
   "metadata": {},
   "outputs": [],
   "source": []
  },
  {
   "cell_type": "markdown",
   "metadata": {},
   "source": [
    "# Step 3: Extract themes based on keywords and nouns\n",
    "\n",
    "In this step, use Watson Speech to Text - with the default language model - to extract keywords and nouns.\n",
    "\n",
    "See:\n",
    "- [Watson Natural Language Understanding API documentation](https://cloud.ibm.com/apidocs/natural-language-understanding?code=python)\n",
    "- [Authentication](https://cloud.ibm.com/apidocs/natural-language-understanding?code=python#authentication)\n",
    "- [`analyze`](https://cloud.ibm.com/apidocs/natural-language-understanding?code=python#analyze)"
   ]
  },
  {
   "cell_type": "code",
   "execution_count": null,
   "metadata": {},
   "outputs": [],
   "source": [
    "# Install the library\n",
    "!pip install --upgrade \"ibm-watson>=5.2.3\""
   ]
  },
  {
   "cell_type": "code",
   "execution_count": 11,
   "metadata": {},
   "outputs": [],
   "source": [
    "# Authenticate with the Watson Speech to Text service\n",
    "from ibm_watson import NaturalLanguageUnderstandingV1\n",
    "from ibm_cloud_sdk_core.authenticators import IAMAuthenticator\n",
    "from ibm_watson.natural_language_understanding_v1 import Features, EntitiesOptions, KeywordsOptions, SyntaxOptions, SyntaxOptionsTokens\n",
    "authenticator = IAMAuthenticator( nlu_apikey )\n",
    "natural_language_understanding = NaturalLanguageUnderstandingV1( version=\"2021-08-01\", authenticator=authenticator )\n",
    "natural_language_understanding.set_service_url( nlu_url )"
   ]
  },
  {
   "cell_type": "markdown",
   "metadata": {},
   "source": [
    "## Test with one sentence"
   ]
  },
  {
   "cell_type": "code",
   "execution_count": 12,
   "metadata": {},
   "outputs": [],
   "source": [
    "# Call the API with one sentence\n",
    "nlu_result = natural_language_understanding.analyze( \n",
    "    text=sentences_arr[0], \n",
    "    features=Features( \n",
    "        keywords=KeywordsOptions(),\n",
    "        syntax=SyntaxOptions( tokens=SyntaxOptionsTokens( part_of_speech=True ) )\n",
    "    )).get_result()"
   ]
  },
  {
   "cell_type": "code",
   "execution_count": 13,
   "metadata": {},
   "outputs": [
    {
     "name": "stdout",
     "output_type": "stream",
     "text": [
      "{\n",
      "  \"usage\": {\n",
      "    \"text_units\": 1,\n",
      "    \"text_characters\": 57,\n",
      "    \"features\": 2\n",
      "  },\n",
      "  \"syntax\": {\n",
      "    \"tokens\": [\n",
      "      {\n",
      "        \"text\": \"Thanks\",\n",
      "        \"part_of_speech\": \"NOUN\",\n",
      "        \"location\": [\n",
      "          0,\n",
      "          6\n",
      "        ]\n",
      "      },\n",
      "      {\n",
      "        \"text\": \",\",\n",
      "        \"part_of_speech\": \"PUNCT\",\n",
      "        \"location\": [\n",
      "          6,\n",
      "          7\n",
      "        ]\n",
      "      },\n",
      "      {\n",
      "        \"text\": \"everybody\",\n",
      "        \"part_of_speech\": \"PRON\",\n",
      "        \"location\": [\n",
      "          8,\n",
      "          17\n",
      "        ]\n",
      "      },\n",
      "      {\n",
      "        \"text\": \",\",\n",
      "        \"part_of_speech\": \"PUNCT\",\n",
      "        \"location\": [\n",
      "          17,\n",
      "          18\n",
      "        ]\n",
      "      },\n",
      "      {\n",
      "        \"text\": \"for\",\n",
      "        \"part_of_speech\": \"SCONJ\",\n",
      "        \"location\": [\n",
      "          19,\n",
      "          22\n",
      "        ]\n",
      "      },\n",
      "      {\n",
      "        \"text\": \"joining\",\n",
      "        \"part_of_speech\": \"VERB\",\n",
      "        \"location\": [\n",
      "          23,\n",
      "          30\n",
      "        ]\n",
      "      },\n",
      "      {\n",
      "        \"text\": \"me\",\n",
      "        \"part_of_speech\": \"PRON\",\n",
      "        \"location\": [\n",
      "          31,\n",
      "          33\n",
      "        ]\n",
      "      },\n",
      "      {\n",
      "        \"text\": \"for\",\n",
      "        \"part_of_speech\": \"ADP\",\n",
      "        \"location\": [\n",
      "          34,\n",
      "          37\n",
      "        ]\n",
      "      },\n",
      "      {\n",
      "        \"text\": \"this\",\n",
      "        \"part_of_speech\": \"DET\",\n",
      "        \"location\": [\n",
      "          38,\n",
      "          42\n",
      "        ]\n",
      "      },\n",
      "      {\n",
      "        \"text\": \"short\",\n",
      "        \"part_of_speech\": \"ADJ\",\n",
      "        \"location\": [\n",
      "          43,\n",
      "          48\n",
      "        ]\n",
      "      },\n",
      "      {\n",
      "        \"text\": \"meeting\",\n",
      "        \"part_of_speech\": \"NOUN\",\n",
      "        \"location\": [\n",
      "          49,\n",
      "          56\n",
      "        ]\n",
      "      },\n",
      "      {\n",
      "        \"text\": \".\",\n",
      "        \"part_of_speech\": \"PUNCT\",\n",
      "        \"location\": [\n",
      "          56,\n",
      "          57\n",
      "        ]\n",
      "      }\n",
      "    ]\n",
      "  },\n",
      "  \"language\": \"en\",\n",
      "  \"keywords\": [\n",
      "    {\n",
      "      \"text\": \"Thanks\",\n",
      "      \"relevance\": 0.937512,\n",
      "      \"count\": 1\n",
      "    },\n",
      "    {\n",
      "      \"text\": \"short meeting\",\n",
      "      \"relevance\": 0.870096,\n",
      "      \"count\": 1\n",
      "    }\n",
      "  ]\n",
      "}\n"
     ]
    }
   ],
   "source": [
    "# Print raw NLU results\n",
    "import json\n",
    "print( json.dumps( nlu_result, indent=2 ) )"
   ]
  },
  {
   "cell_type": "code",
   "execution_count": 14,
   "metadata": {},
   "outputs": [
    {
     "name": "stdout",
     "output_type": "stream",
     "text": [
      "Themes by keywords:\n",
      "\n",
      "Thanks, short meeting | Thanks, everybody, for joining me for this short meeting.\n"
     ]
    }
   ],
   "source": [
    "# Print the \"themes\" of the sentence, based on keywords\n",
    "keywords_arr = []\n",
    "for keyword_result in nlu_result[\"keywords\"]:\n",
    "    keywords_arr.append( keyword_result[\"text\"] )\n",
    "print( \"Themes by keywords:\\n\" )\n",
    "print( \", \".join( keywords_arr ) + \" | \" + sentences_arr[0] )"
   ]
  },
  {
   "cell_type": "code",
   "execution_count": 15,
   "metadata": {},
   "outputs": [
    {
     "name": "stdout",
     "output_type": "stream",
     "text": [
      "Themes by nouns:\n",
      "\n",
      "Thanks, meeting | Thanks, everybody, for joining me for this short meeting.\n"
     ]
    }
   ],
   "source": [
    "# Print the \"themes\" of the sentence, based on nouns\n",
    "import re\n",
    "nouns_arr = []\n",
    "for syntax_result in nlu_result[\"syntax\"][\"tokens\"]:\n",
    "    if re.match( r\"NOUN\", syntax_result[\"part_of_speech\"] ):\n",
    "        nouns_arr.append( syntax_result[\"text\"] )\n",
    "print( \"Themes by nouns:\\n\" )\n",
    "print( \", \".join( nouns_arr ) + \" | \" + sentences_arr[0] )"
   ]
  },
  {
   "cell_type": "markdown",
   "metadata": {},
   "source": [
    "## Extract keywords and nouns for all sentences"
   ]
  },
  {
   "cell_type": "code",
   "execution_count": 16,
   "metadata": {},
   "outputs": [],
   "source": [
    "# Loop through sentences_arr, calling the API for each sentence\n",
    "nlu_results_arr = []\n",
    "for sentence in sentences_arr:\n",
    "    nlu_result = natural_language_understanding.analyze(\n",
    "        text=sentence, \n",
    "        features=Features( \n",
    "            keywords=KeywordsOptions(),\n",
    "            syntax=SyntaxOptions( tokens=SyntaxOptionsTokens( part_of_speech=True ) )\n",
    "        )).get_result()\n",
    "    nlu_results_arr.append( { \"sentence\" : sentence, \"nlu_result\" : nlu_result } )    "
   ]
  },
  {
   "cell_type": "code",
   "execution_count": null,
   "metadata": {},
   "outputs": [],
   "source": [
    "# Print raw results\n",
    "print( json.dumps( nlu_results_arr, indent=2 ) )"
   ]
  },
  {
   "cell_type": "markdown",
   "metadata": {},
   "source": [
    "### Themes based on keywords for all sentences"
   ]
  },
  {
   "cell_type": "code",
   "execution_count": 18,
   "metadata": {},
   "outputs": [],
   "source": [
    "# Print an HTML table to make it easier to see the results\n",
    "html_keywords = \"<table><tr><th>Theme (by keywords)</th><th style='text-align: left;'>Sentence</th></tr>\"\n",
    "for item in nlu_results_arr:\n",
    "    keywords_arr = []\n",
    "    sentence = item[\"sentence\"]\n",
    "    for keyword_result in item[\"nlu_result\"][\"keywords\"]:\n",
    "        keywords_arr.append( keyword_result[\"text\"] )\n",
    "    theme = \", \".join( keywords_arr )\n",
    "    html_keywords += \"<tr><td>\" + theme + \"</td><td style='text-align: left;'>\" + sentence + \"</td></tr>\"\n",
    "html_keywords += \"</table>\""
   ]
  },
  {
   "cell_type": "code",
   "execution_count": 19,
   "metadata": {},
   "outputs": [
    {
     "data": {
      "text/html": [
       "<table><tr><th>Theme (by keywords)</th><th style='text-align: left;'>Sentence</th></tr><tr><td>Thanks, short meeting</td><td style='text-align: left;'>Thanks, everybody, for joining me for this short meeting.</td></tr><tr><td>favorite animal, today, room, people</td><td style='text-align: left;'>What I wanted to do, today, was to go around the room and asked people to share what is their favorite animal and why.</td></tr><tr><td>favorite animal, name, Heather, dog</td><td style='text-align: left;'>Okay. My name is Heather and my favorite animal is a dog.</td></tr><tr><td>favorite animal, lot of people, reason, dogs, such loving companions</td><td style='text-align: left;'>And the reason that it's my favorite animal, probably a lot of people's favorite animal, because dogs are such loving companions who are so very loyal.</td></tr><tr><td></td><td style='text-align: left;'>And I feel like they seem to know when you need them to come snuggle by you.</td></tr><tr><td>feelings</td><td style='text-align: left;'>They're very perceptive of your feelings and they want to please you.</td></tr><tr><td>mean dogs, dogs, humans</td><td style='text-align: left;'>And I don't think they're, well there are mean dogs, but overall most dogs are very lovable and only just want to please humans.</td></tr><tr><td>favorite animal, dogs</td><td style='text-align: left;'>And so I would say dogs are my favorite animal.</td></tr><tr><td></td><td style='text-align: left;'>I can go next.</td></tr><tr><td>name Sara, different animal, once, while</td><td style='text-align: left;'>So, my name Sara, and every once in a while, I actually reflect on a different animal and I feel like I connect with a different one.</td></tr><tr><td>lot, elephants</td><td style='text-align: left;'>But recently I've been thinking a lot about elephants, and I think elephants are really fascinating.</td></tr><tr><td>African culture, power, symbol of strength</td><td style='text-align: left;'>They represent, in the African culture, they are a symbol of strength and power.</td></tr><tr><td>wisdom</td><td style='text-align: left;'>And I also think they resemble wisdom.</td></tr><tr><td></td><td style='text-align: left;'>So yeah, I just think it's interesting, because we don't get to see them that often.</td></tr><tr><td>first thing, favorite animal, pet animal</td><td style='text-align: left;'>Usually, the first thing I would think about, when I'm asked about my favorite animal, I would say a pet animal.</td></tr><tr><td>animals, wild</td><td style='text-align: left;'>But yeah, I just find animals in the wild are also very fascinating, very interesting to explore and learn more about them.</td></tr><tr><td>favorite animal, Sara, giraffes</td><td style='text-align: left;'>Well, similar to Sara, I'd have to say maybe my favorite animal would be maybe giraffes, because I've always thought they look very, they were very unique.</td></tr><tr><td>zoo, giraffes</td><td style='text-align: left;'>And whenever I went to a zoo, or anything like that, I'd always look forward to seeing the giraffes.</td></tr><tr><td>giraffe</td><td style='text-align: left;'>So yeah, I'd say giraffe.</td></tr><tr><td>favorite animal, horse, years</td><td style='text-align: left;'>Maybe ten years ago, if you had asked me my favorite animal, I would have said the horse.</td></tr><tr><td></td><td style='text-align: left;'>And they're pretty up there, still.</td></tr><tr><td>couple of years, donkey, neighbor, bit</td><td style='text-align: left;'>But we happened to get a donkey a couple of years ago, because a neighbor was getting a bit older and couldn't look after her anymore himself as easily.</td></tr><tr><td>fence, property</td><td style='text-align: left;'>So, she just came over the fence to our property instead, and he can still visit her.</td></tr><tr><td>first donkey</td><td style='text-align: left;'>But that's the first donkey I'd ever met, and I have to say: she's amazing!</td></tr><tr><td>favorite animal, donkeys</td><td style='text-align: left;'>So, now, I would say my favorite animal is donkeys.</td></tr><tr><td>horse, dog, personality</td><td style='text-align: left;'>They're kind of like a horse and a dog, in their personality.</td></tr><tr><td></td><td style='text-align: left;'>And I have to say she is smarter than I am; I fully acknowledge that.</td></tr><tr><td>Donkeys</td><td style='text-align: left;'>Donkeys are quite amazing.</td></tr></table>"
      ],
      "text/plain": [
       "<IPython.core.display.HTML object>"
      ]
     },
     "metadata": {},
     "output_type": "display_data"
    }
   ],
   "source": [
    "from IPython.core.display import display, HTML\n",
    "display( HTML( html_keywords ) )"
   ]
  },
  {
   "cell_type": "markdown",
   "metadata": {},
   "source": [
    "### Themes based on nouns for all sentences"
   ]
  },
  {
   "cell_type": "code",
   "execution_count": 20,
   "metadata": {},
   "outputs": [],
   "source": [
    "# Print an HTML table to make it easier to see the results\n",
    "html_nouns = \"<table><tr><th>Theme (by nouns)</th><th style='text-align: left;'>Sentence</th></tr>\"\n",
    "for item in nlu_results_arr:\n",
    "    sentence = item[\"sentence\"]\n",
    "    nouns_arr = []\n",
    "    for token_result in item[\"nlu_result\"][\"syntax\"][\"tokens\"]:\n",
    "        if re.match( r\"NOUN\", token_result[\"part_of_speech\"] ):\n",
    "            nouns_arr.append( token_result[\"text\"] )\n",
    "    theme = \", \".join( nouns_arr )\n",
    "    html_nouns += \"<tr><td>\" + theme + \"</td><td style='text-align: left;'>\" + sentence + \"</td></tr>\"\n",
    "html_nouns += \"</table>\""
   ]
  },
  {
   "cell_type": "code",
   "execution_count": 21,
   "metadata": {},
   "outputs": [
    {
     "data": {
      "text/html": [
       "<table><tr><th>Theme (by nouns)</th><th style='text-align: left;'>Sentence</th></tr><tr><td>Thanks, meeting</td><td style='text-align: left;'>Thanks, everybody, for joining me for this short meeting.</td></tr><tr><td>today, room, people, animal</td><td style='text-align: left;'>What I wanted to do, today, was to go around the room and asked people to share what is their favorite animal and why.</td></tr><tr><td>name, animal, dog</td><td style='text-align: left;'>Okay. My name is Heather and my favorite animal is a dog.</td></tr><tr><td>reason, animal, lot, people, animal, dogs, companions</td><td style='text-align: left;'>And the reason that it's my favorite animal, probably a lot of people's favorite animal, because dogs are such loving companions who are so very loyal.</td></tr><tr><td></td><td style='text-align: left;'>And I feel like they seem to know when you need them to come snuggle by you.</td></tr><tr><td>feelings</td><td style='text-align: left;'>They're very perceptive of your feelings and they want to please you.</td></tr><tr><td>dogs, dogs, humans</td><td style='text-align: left;'>And I don't think they're, well there are mean dogs, but overall most dogs are very lovable and only just want to please humans.</td></tr><tr><td>dogs, animal</td><td style='text-align: left;'>And so I would say dogs are my favorite animal.</td></tr><tr><td></td><td style='text-align: left;'>I can go next.</td></tr><tr><td>name, once, while, animal, one</td><td style='text-align: left;'>So, my name Sara, and every once in a while, I actually reflect on a different animal and I feel like I connect with a different one.</td></tr><tr><td>lot, elephants, elephants</td><td style='text-align: left;'>But recently I've been thinking a lot about elephants, and I think elephants are really fascinating.</td></tr><tr><td>culture, symbol, strength, power</td><td style='text-align: left;'>They represent, in the African culture, they are a symbol of strength and power.</td></tr><tr><td>wisdom</td><td style='text-align: left;'>And I also think they resemble wisdom.</td></tr><tr><td></td><td style='text-align: left;'>So yeah, I just think it's interesting, because we don't get to see them that often.</td></tr><tr><td>thing, animal, pet, animal</td><td style='text-align: left;'>Usually, the first thing I would think about, when I'm asked about my favorite animal, I would say a pet animal.</td></tr><tr><td>animals, wild</td><td style='text-align: left;'>But yeah, I just find animals in the wild are also very fascinating, very interesting to explore and learn more about them.</td></tr><tr><td>animal, giraffes</td><td style='text-align: left;'>Well, similar to Sara, I'd have to say maybe my favorite animal would be maybe giraffes, because I've always thought they look very, they were very unique.</td></tr><tr><td>zoo, giraffes</td><td style='text-align: left;'>And whenever I went to a zoo, or anything like that, I'd always look forward to seeing the giraffes.</td></tr><tr><td>giraffe</td><td style='text-align: left;'>So yeah, I'd say giraffe.</td></tr><tr><td>years, animal, horse</td><td style='text-align: left;'>Maybe ten years ago, if you had asked me my favorite animal, I would have said the horse.</td></tr><tr><td></td><td style='text-align: left;'>And they're pretty up there, still.</td></tr><tr><td>donkey, couple, years, neighbor, bit</td><td style='text-align: left;'>But we happened to get a donkey a couple of years ago, because a neighbor was getting a bit older and couldn't look after her anymore himself as easily.</td></tr><tr><td>fence, property</td><td style='text-align: left;'>So, she just came over the fence to our property instead, and he can still visit her.</td></tr><tr><td>donkey</td><td style='text-align: left;'>But that's the first donkey I'd ever met, and I have to say: she's amazing!</td></tr><tr><td>animal, donkeys</td><td style='text-align: left;'>So, now, I would say my favorite animal is donkeys.</td></tr><tr><td>horse, dog, personality</td><td style='text-align: left;'>They're kind of like a horse and a dog, in their personality.</td></tr><tr><td></td><td style='text-align: left;'>And I have to say she is smarter than I am; I fully acknowledge that.</td></tr><tr><td>Donkeys</td><td style='text-align: left;'>Donkeys are quite amazing.</td></tr></table>"
      ],
      "text/plain": [
       "<IPython.core.display.HTML object>"
      ]
     },
     "metadata": {},
     "output_type": "display_data"
    }
   ],
   "source": [
    "display( HTML( html_nouns ) )"
   ]
  },
  {
   "cell_type": "code",
   "execution_count": null,
   "metadata": {},
   "outputs": [],
   "source": []
  },
  {
   "cell_type": "code",
   "execution_count": null,
   "metadata": {},
   "outputs": [],
   "source": []
  },
  {
   "cell_type": "markdown",
   "metadata": {},
   "source": [
    "# Step 4: Extract themes based on entities, using a custom language model\n",
    "\n",
    "In this step, demonstrate how much better the results are when using a custom language model.\n",
    "\n",
    "A file containing sample results from a model customized to recognize \"Animal\" entities is available here: [favorite-animals-short-meeting_nlu-custom-model-results.json](https://raw.githubusercontent.com/spackows/CASCON-2021_Processing_video/main/sample-meeting/favorite-animals-short-meeting_nlu-custom-model-results.json)\n",
    "\n",
    "Creating a custom language model to use with Watson Natural Language Understanding is demonstrated in full detail in these workshops: [CASCON-2019_NLP-workshops](https://github.com/spackows/CASCON-2019_NLP-workshops)"
   ]
  },
  {
   "cell_type": "code",
   "execution_count": 22,
   "metadata": {},
   "outputs": [
    {
     "data": {
      "text/plain": [
       "('favorite-animals-short-meeting_nlu-custom-model-results.json',\n",
       " <http.client.HTTPMessage at 0x7fae9520b100>)"
      ]
     },
     "execution_count": 22,
     "metadata": {},
     "output_type": "execute_result"
    }
   ],
   "source": [
    "# Download the file\n",
    "import urllib.request\n",
    "custom_nlu_url = \"https://raw.githubusercontent.com/spackows/CASCON-2021_Processing_video/main/sample-meeting/favorite-animals-short-meeting_nlu-custom-model-results.json\"\n",
    "custom_nlu_filename = \"favorite-animals-short-meeting_nlu-custom-model-results.json\"\n",
    "urllib.request.urlretrieve( custom_nlu_url, custom_nlu_filename )"
   ]
  },
  {
   "cell_type": "code",
   "execution_count": 135,
   "metadata": {},
   "outputs": [
    {
     "name": "stdout",
     "output_type": "stream",
     "text": [
      "favorite-animals-short-meeting_nlu-custom-model-results.json\r\n",
      "favorite-animals-short-meeting_sentences_arr_corrected.json\r\n"
     ]
    }
   ],
   "source": [
    "# View the contents of the working directory\n",
    "!ls"
   ]
  },
  {
   "cell_type": "code",
   "execution_count": 25,
   "metadata": {},
   "outputs": [
    {
     "name": "stdout",
     "output_type": "stream",
     "text": [
      "[\n",
      "  {\n",
      "    \"sentence\": \"What I wanted to do, today, was to go around the room and asked people to share what is their favorite animal and why.\",\n",
      "    \"nlu_result\": {\n",
      "      \"entities\": []\n",
      "    }\n",
      "  },\n",
      "  {\n",
      "    \"sentence\": \"Okay. My name is Heather and my favorite animal is a dog.\",\n",
      "    \"nlu_result\": {\n",
      "      \"entities\": [\n",
      "        {\n",
      "          \"type\": \"Animal\",\n",
      "          \"text\": \"dog\",\n",
      "          \"relevance\": 0.81586,\n",
      "          \"count\": 1\n",
      "        }\n",
      "      ]\n",
      "    }\n",
      "  }\n",
      "] \n",
      "...\n"
     ]
    }
   ],
   "source": [
    "# Read the sentences from the file\n",
    "with open( custom_nlu_filename ) as json_file:\n",
    "    nlu_results_arr_custom = json.load( json_file )\n",
    "    \n",
    "print( json.dumps( nlu_results_arr_custom[1:3], indent=2 ), \"\\n...\" )"
   ]
  },
  {
   "cell_type": "code",
   "execution_count": null,
   "metadata": {},
   "outputs": [],
   "source": [
    "# View all the raw, custom results for interest\n",
    "print( json.dumps( nlu_results_arr_custom, indent=2 ) )"
   ]
  },
  {
   "cell_type": "code",
   "execution_count": 27,
   "metadata": {},
   "outputs": [],
   "source": [
    "# A simple helper function for stemming\n",
    "def singular( input ):\n",
    "    return re.sub( r\"s$\", \"\", input )\n",
    "\n",
    "# Print an HTML table to make it easier to see the results\n",
    "html_custom_entities = \"<table><tr><th>Theme (by custom entities)</th><th style='text-align: left;'>Sentence</th></tr>\"\n",
    "for item in nlu_results_arr_custom:\n",
    "    sentence = item[\"sentence\"]\n",
    "    entites_arr = []\n",
    "    entites_results_arr = item[\"nlu_result\"][\"entities\"]\n",
    "    for entity_result in entites_results_arr:\n",
    "        if re.match( r\"Animal\", entity_result[\"type\"] ):\n",
    "            entites_arr.append( singular( entity_result[\"text\"] ).lower() )\n",
    "    theme = \", \".join( entites_arr )\n",
    "    html_custom_entities += \"<tr><td>\" + theme + \"</td><td style='text-align: left;'>\" + sentence + \"</td></tr>\"\n",
    "html_custom_entities += \"</table>\""
   ]
  },
  {
   "cell_type": "code",
   "execution_count": 28,
   "metadata": {},
   "outputs": [
    {
     "data": {
      "text/html": [
       "<table><tr><th>Theme (by custom entities)</th><th style='text-align: left;'>Sentence</th></tr><tr><td></td><td style='text-align: left;'>Thanks, everybody, for joining me for this short meeting.</td></tr><tr><td></td><td style='text-align: left;'>What I wanted to do, today, was to go around the room and asked people to share what is their favorite animal and why.</td></tr><tr><td>dog</td><td style='text-align: left;'>Okay. My name is Heather and my favorite animal is a dog.</td></tr><tr><td>dog</td><td style='text-align: left;'>And the reason that it's my favorite animal, probably a lot of people's favorite animal, because dogs are such loving companions who are so very loyal.</td></tr><tr><td></td><td style='text-align: left;'>And I feel like they seem to know when you need them to come snuggle by you.</td></tr><tr><td></td><td style='text-align: left;'>They're very perceptive of your feelings and they want to please you.</td></tr><tr><td>dog</td><td style='text-align: left;'>And I don't think they're, well there are mean dogs, but overall most dogs are very lovable and only just want to please humans.</td></tr><tr><td>dog</td><td style='text-align: left;'>And so I would say dogs are my favorite animal.</td></tr><tr><td></td><td style='text-align: left;'>I can go next.</td></tr><tr><td></td><td style='text-align: left;'>So, my name Sara, and every once in a while, I actually reflect on a different animal and I feel like I connect with a different one.</td></tr><tr><td>elephant</td><td style='text-align: left;'>But recently I've been thinking a lot about elephants, and I think elephants are really fascinating.</td></tr><tr><td></td><td style='text-align: left;'>They represent, in the African culture, they are a symbol of strength and power.</td></tr><tr><td></td><td style='text-align: left;'>And I also think they resemble wisdom.</td></tr><tr><td></td><td style='text-align: left;'>So yeah, I just think it's interesting, because we don't get to see them that often.</td></tr><tr><td></td><td style='text-align: left;'>Usually, the first thing I would think about, when I'm asked about my favorite animal, I would say a pet animal.</td></tr><tr><td></td><td style='text-align: left;'>But yeah, I just find animals in the wild are also very fascinating, very interesting to explore and learn more about them.</td></tr><tr><td>giraffe</td><td style='text-align: left;'>Well, similar to Sara, I'd have to say maybe my favorite animal would be maybe giraffes, because I've always thought they look very, they were very unique.</td></tr><tr><td>giraffe</td><td style='text-align: left;'>And whenever I went to a zoo, or anything like that, I'd always look forward to seeing the giraffes.</td></tr><tr><td>giraffe</td><td style='text-align: left;'>So yeah, I'd say giraffe.</td></tr><tr><td>horse</td><td style='text-align: left;'>Maybe ten years ago, if you had asked me my favorite animal, I would have said the horse.</td></tr><tr><td></td><td style='text-align: left;'>And they're pretty up there, still.</td></tr><tr><td>donkey</td><td style='text-align: left;'>But we happened to get a donkey a couple of years ago, because a neighbor was getting a bit older and couldn't look after her anymore himself as easily.</td></tr><tr><td></td><td style='text-align: left;'>So, she just came over the fence to our property instead, and he can still visit her.</td></tr><tr><td>donkey</td><td style='text-align: left;'>But that's the first donkey I'd ever met, and I have to say: she's amazing!</td></tr><tr><td>donkey</td><td style='text-align: left;'>So, now, I would say my favorite animal is donkeys.</td></tr><tr><td>horse, dog</td><td style='text-align: left;'>They're kind of like a horse and a dog, in their personality.</td></tr><tr><td></td><td style='text-align: left;'>And I have to say she is smarter than I am; I fully acknowledge that.</td></tr><tr><td>donkey</td><td style='text-align: left;'>Donkeys are quite amazing.</td></tr></table>"
      ],
      "text/plain": [
       "<IPython.core.display.HTML object>"
      ]
     },
     "metadata": {},
     "output_type": "display_data"
    }
   ],
   "source": [
    "display( HTML( html_custom_entities ) )"
   ]
  },
  {
   "cell_type": "code",
   "execution_count": null,
   "metadata": {},
   "outputs": [],
   "source": []
  },
  {
   "cell_type": "code",
   "execution_count": null,
   "metadata": {},
   "outputs": [],
   "source": []
  }
 ],
 "metadata": {
  "kernelspec": {
   "display_name": "Python 3.8",
   "language": "python",
   "name": "python3"
  },
  "language_info": {
   "codemirror_mode": {
    "name": "ipython",
    "version": 3
   },
   "file_extension": ".py",
   "mimetype": "text/x-python",
   "name": "python",
   "nbconvert_exporter": "python",
   "pygments_lexer": "ipython3",
   "version": "3.8.12"
  }
 },
 "nbformat": 4,
 "nbformat_minor": 1
}
